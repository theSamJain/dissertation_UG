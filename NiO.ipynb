{
  "cells": [
    {
      "cell_type": "code",
      "execution_count": null,
      "metadata": {
        "id": "S8JSIs3nAfF4"
      },
      "outputs": [],
      "source": [
        "# libraries\n",
        "import numpy as np\n",
        "%matplotlib widget\n",
        "import matplotlib.pyplot as plt\n",
        "from scipy.ndimage import convolve, generate_binary_structure\n",
        "from numba import njit"
      ]
    },
    {
      "cell_type": "code",
      "execution_count": null,
      "metadata": {
        "id": "fDYx1hPcAfF7"
      },
      "outputs": [],
      "source": [
        "# @njit(nopython = True, nogil = True)\n",
        "def Lat_Energy(lattice, j1, j2):\n",
        "    kernal = np.matrix([[0., 0., j2, 0., 0.], \n",
        "                        [0., j1, 0., j1, 0.], \n",
        "                        [j2, 0., 0., 0., j2],\n",
        "                        [0., j1, 0., j1, 0.], \n",
        "                        [0., 0., j2, 0., 0.]], dtype = \"float\")\n",
        "    arr = -lattice*convolve(lattice, kernal, mode = 'wrap', cval = 0, output = \"float\")\n",
        "    # print(arr)\n",
        "    # arr = arr/2\n",
        "    '''use mode = 'wrap' if considering infinite/periodic lattice'''\n",
        "    return np.sum(arr/2)"
      ]
    },
    {
      "cell_type": "code",
      "execution_count": null,
      "metadata": {
        "colab": {
          "base_uri": "https://localhost:8080/",
          "height": 200
        },
        "id": "OJo59qfd0Su9",
        "outputId": "28dc2bf7-85bb-47cf-e841-10b0206782d8"
      },
      "outputs": [],
      "source": [
        "arr = np.array([[ 0, -1,  0,  1,  0, -1,  0,  1,  0, -1],\n",
        "               [ 1,  0, -1,  0,  1,  0, -1,  0,  1,  0],\n",
        "               [ 0,  1,  0, -1,  0,  1,  0, -1,  0,  1,],\n",
        "               [-1,  0,  1,  0, -1,  0,  1,  0, -1,  0,],\n",
        "               [ 0, -1,  0,  1,  0, -1,  0,  1,  0, -1],\n",
        "               [ 1,  0, -1,  0,  1,  0, -1,  0,  1,  0],\n",
        "               [ 0,  1,  0, -1,  0,  1,  0, -1,  0,  1],\n",
        "               [-1,  0,  1,  0, -1,  0,  1,  0, -1,  0],\n",
        "               [ 0, -1,  0,  1,  0, -1,  0,  1,  0, -1],\n",
        "               [ 1,  0, -1,  0,  1,  0, -1,  0,  1,  0]])\n",
        "\n",
        "# arr3 = arr[arr != 0].reshape(10, 5)\n",
        "# plt.imshow(arr)\n",
        "# print(stagger(arr))\n",
        "\n",
        "# print(Lat_Energy(arr, 2.3*10**(-3), -21*10**(-3))/50)"
      ]
    },
    {
      "cell_type": "code",
      "execution_count": null,
      "metadata": {},
      "outputs": [],
      "source": [
        "# arr2 = np.matrix([[0., 0., 0, 0., 0.], \n",
        "#                         [0., 0, 0., 0, 0.], \n",
        "#                         [0, 0., 1, 0., 0],\n",
        "#                         [0., 0, 0., 0, 0.], \n",
        "#                         [0., 0., 0, 0., 0.]])\n",
        "arr2 = np.array([[1, 0], \n",
        "                [0, -1]])\n",
        "print(Lat_Energy(arr2, 2.3, -21))"
      ]
    },
    {
      "cell_type": "code",
      "execution_count": null,
      "metadata": {
        "id": "9v4WZ8v4AfF9"
      },
      "outputs": [],
      "source": [
        "def NiO_shape(lattice):\n",
        "    for i in range(len(lattice)):\n",
        "        for j in range(len(lattice)):\n",
        "            if(i%2 == 0):\n",
        "                if(j%2 == 0):\n",
        "                    lattice[i, j] = 0\n",
        "            if(i%2 == 1):\n",
        "                if(j%2 == 1):\n",
        "                    lattice[i, j] = 0      \n",
        "    return(lattice)  "
      ]
    },
    {
      "cell_type": "code",
      "execution_count": null,
      "metadata": {},
      "outputs": [],
      "source": [
        "@njit(nopython = True, nogil = True)\n",
        "def stagger(lat_config):\n",
        "    size = len(lat_config)\n",
        "    rows = np.zeros(size)\n",
        "\n",
        "    for i in range(size):\n",
        "        row_dat = 0\n",
        "\n",
        "        for j in range(size):\n",
        "\n",
        "            if(i%2 == 0):\n",
        "                if(((j+1)%2 == 0) and ((j+1)%4 != 0)):\n",
        "                    row_dat += lat_config[i, j]\n",
        "                elif((j+1)%4 == 0):\n",
        "                    row_dat -= lat_config[i, j]\n",
        "\n",
        "            else:\n",
        "                if((j%2 == 0) and (j%4 != 0)):\n",
        "                    row_dat -= lat_config[i, j]\n",
        "                elif(j%4 == 0):\n",
        "                    row_dat += lat_config[i, j]\n",
        "\n",
        "        rows[i] = row_dat\n",
        "\n",
        "        res = 0\n",
        "        for data in rows:\n",
        "            res += np.abs(data)\n",
        "\n",
        "    return res, rows"
      ]
    },
    {
      "cell_type": "code",
      "execution_count": null,
      "metadata": {
        "colab": {
          "base_uri": "https://localhost:8080/"
        },
        "id": "I0-f7ldwAfF9",
        "outputId": "edf5469f-73d3-4cc2-a451-c4b1a1e03893"
      },
      "outputs": [],
      "source": [
        "@njit(nopython = True, nogil = True)\n",
        "\n",
        "def metropolis(lat_config, n_times, beta, lattice_energy, N, J1, J2):\n",
        "    spin_arr = lat_config.copy()\n",
        "    net_spins = np.zeros(n_times-1)\n",
        "    net_lattice_energy = np.zeros(n_times-1)\n",
        "\n",
        "    for t in range(0, n_times-1):\n",
        "\n",
        "        x, y = 0, 0\n",
        "        while(spin_arr[x, y] == 0):\n",
        "          x, y = np.random.randint(low = 0, high = N, size = 2)\n",
        "\n",
        "        spin_i = spin_arr[x, y]     # initial spin\n",
        "        spin_f = spin_i*(-1)        # flipping initial spin\n",
        "        \n",
        "        E_i = 0\n",
        "        E_f = 0\n",
        "\n",
        "        d1 = spin_arr[(x-1)%N, (y-1)%N]\n",
        "        d2 = spin_arr[(x+1)%N, (y+1)%N]\n",
        "        d3 = spin_arr[(x+1)%N, (y-1)%N]\n",
        "        d4 = spin_arr[(x-1)%N, (y+1)%N]\n",
        "\n",
        "        l1 = spin_arr[(x)%N, (y-2)%N]\n",
        "        l2 = spin_arr[(x)%N, (y+2)%N]\n",
        "        l3 = spin_arr[(x+2)%N, (y)%N]\n",
        "        l4 = spin_arr[(x-2)%N, (y)%N]\n",
        "\n",
        "        E_i = -J1*spin_i*(d1+d2+d3+d4) - J2*spin_i*(l1+l2+l3+l4) \n",
        "        E_f = -J1*spin_f*(d1+d2+d3+d4) - J2*spin_f*(l1+l2+l3+l4) \n",
        "\n",
        "        dE = E_f - E_i\n",
        "\n",
        "        if ((dE > 0) and (np.random.uniform(0, 1) < np.exp(-beta*dE))):\n",
        "            spin_arr[x, y] = spin_f\n",
        "            lattice_energy += dE\n",
        "\n",
        "        elif dE <= 0:\n",
        "            spin_arr[x, y] = spin_f\n",
        "            lattice_energy += dE\n",
        "            \n",
        "        net_spins[t] = stagger(spin_arr)[0]\n",
        "        net_lattice_energy[t] = lattice_energy\n",
        "\n",
        "    final_config = spin_arr.copy()\n",
        "            \n",
        "    return net_spins, net_lattice_energy, final_config"
      ]
    },
    {
      "cell_type": "code",
      "execution_count": null,
      "metadata": {
        "id": "vSbGADLoAfGA"
      },
      "outputs": [],
      "source": [
        "def get_spin_energy(lattice, beta, correct_n, J1, J2, N):\n",
        "    ms = np.zeros(len(beta))         # array for means of spins\n",
        "    m_stds = np.zeros(len(beta))\n",
        "    e_means = np.zeros(len(beta))\n",
        "    e_stds = np.zeros(len(beta))\n",
        "\n",
        "    for i, b in enumerate(beta):\n",
        "        energy = Lat_Energy(lattice, J1, J2)\n",
        "        spins, energies, final = metropolis(lattice, 10**6, b, energy, N, J1, J2)\n",
        "\n",
        "        # correct_n is the number of spins/particles (from the end of the array) that we'd like to consider to calc. the mean and std. It is like convergence\n",
        "        ms[i] = np.mean(spins[-correct_n:])/(N**2/2) #.mean()/N**2\n",
        "        m_stds[i] = np.std(spins[-correct_n:])\n",
        "        e_means[i] = np.mean(energies[-correct_n:])/(N**2/2)#.mean()\n",
        "        e_stds[i] = np.std(energies[-correct_n:])#.std()\n",
        "\n",
        "        print(i)\n",
        "\n",
        "    return ms, m_stds, e_means, e_stds"
      ]
    },
    {
      "cell_type": "code",
      "execution_count": null,
      "metadata": {
        "colab": {
          "base_uri": "https://localhost:8080/",
          "height": 1000
        },
        "id": "mF53Xg-WAfGA",
        "outputId": "d8183174-bfac-4578-c75b-d4bd4968c513"
      },
      "outputs": [],
      "source": [
        "'''Lattice Information'''\n",
        "Ndim = 20              # NxN lattice\n",
        "p = 0.50            # Prob of -1 spins\n",
        "lattice = NiO_shape(np.random.choice([-1, 1], size = (Ndim, Ndim), p = [p, 1-p]))\n",
        "\n",
        "plt.figure(\"org_lattice\")\n",
        "plt.imshow(lattice)"
      ]
    },
    {
      "cell_type": "code",
      "execution_count": null,
      "metadata": {
        "colab": {
          "base_uri": "https://localhost:8080/",
          "height": 465
        },
        "id": "cnfGnwHoAfGB",
        "outputId": "f4e86ed8-8a52-49aa-ae34-8c5e9b71e9ce"
      },
      "outputs": [],
      "source": [
        "n_steps = 10**6     # Number of times to run metropolis: (randomly) flip spins\n",
        "j1 = 2.3*10**(-3)\n",
        "j2 = -21*10**(-3)\n",
        "\n",
        "energy_lattice = Lat_Energy(lattice, j1, j2)\n",
        "kb = 8.6173303*10**(-5)\n",
        "T = 100\n",
        "B = 1/(T*kb)\n",
        "\n",
        "spin, enrgy, final = metropolis(lat_config = lattice, n_times = n_steps, beta = B, lattice_energy = energy_lattice, N = Ndim, J1 = j1, J2 = j2)\n",
        "\n",
        "# plt.figure(\"final_lattice\")\n",
        "# plt.imshow(final)"
      ]
    },
    {
      "cell_type": "code",
      "execution_count": 37,
      "metadata": {},
      "outputs": [
        {
          "data": {
            "text/plain": [
              "<matplotlib.image.AxesImage at 0x2a817174d00>"
            ]
          },
          "execution_count": 37,
          "metadata": {},
          "output_type": "execute_result"
        }
      ],
      "source": [
        "plt.figure(\"lattice\")\n",
        "plt.imshow(final)"
      ]
    },
    {
      "cell_type": "code",
      "execution_count": null,
      "metadata": {
        "id": "ZfIgLyN7AfGE"
      },
      "outputs": [],
      "source": [
        "'''Plot of Spins and Energy for particular BJ'''\n",
        "fig, ax = plt.subplots(1, 2, figsize = (13.5, 5.5)); \n",
        "ax[0].plot(spin/(Ndim**2))\n",
        "ax[0].set_xlabel(\"n Steps\")\n",
        "ax[0].set_ylabel(\"Average Staggered Magnetization $\\\\bar{m}$\")\n",
        "ax[0].grid(True)\n",
        "ax[1].plot(1000*enrgy/(Ndim**2))\n",
        "ax[1].set_xlabel(\"n Steps\")\n",
        "ax[1].set_ylabel(\"Average Energy $E/J$\")\n",
        "ax[1].grid(True)\n",
        "fig.suptitle(\"Average Spin and Energy for $\\\\beta J = $ {:}\".format(B), size = 12); "
      ]
    },
    {
      "cell_type": "markdown",
      "metadata": {
        "id": "U4OWJpjCAfGF"
      },
      "source": [
        "<hr/>"
      ]
    },
    {
      "cell_type": "code",
      "execution_count": null,
      "metadata": {
        "id": "7oPNXEnbAfGF"
      },
      "outputs": [],
      "source": [
        "kb = 8.6173303*10**(-5)\n",
        "beta = 1/(kb*np.linspace(50, 1000, 200))\n",
        "j1 = 2.3*10**(-3)\n",
        "j2 = -21*10**(-3)\n",
        "s_means, s_stds, E_means, E_stds = get_spin_energy(lattice, beta, 10**5, j1, j2, Ndim)"
      ]
    },
    {
      "cell_type": "code",
      "execution_count": null,
      "metadata": {},
      "outputs": [],
      "source": [
        "'''Plot of Magnetization and Cv vs 1/BJ'''\n",
        "fig2, ax2 = plt.subplots(1, 2, figsize = (13.5, 5.5)); \n",
        "# ms_max_ind = np.argmax(s_means)\n",
        "ax2[0].plot(1/(beta*kb), s_means, ls = '--', marker = \".\")\n",
        "# ax2[0].axvline(1/BJs[ms_max_ind], color = \"black\", label = \"1/BJ = {:.5}\".format(1/BJs[ms_max_ind]))\n",
        "ax2[0].set_xlabel(\"Temp (K)\")\n",
        "ax2[0].set_ylabel(\"$\\\\bar{sm}$\")\n",
        "ax2[0].grid()\n",
        "# ax2[0].legend()\n",
        "\n",
        "cv_max_ind = np.argmax(E_stds*(beta**2))\n",
        "ax2[1].plot(1/(beta*kb), E_stds*(beta**2), ls = \"-.\", marker = \"o\")\n",
        "ax2[1].axvline(1/(kb*beta[cv_max_ind]), color = \"black\", label = \"1/BJ = {:.5}\".format(1/(kb*beta[cv_max_ind])))\n",
        "ax2[1].set_xlabel(\"Temp (K)\")\n",
        "ax2[1].set_ylabel(\"$C_V / k^2$\")\n",
        "ax2[1].grid()\n",
        "ax2[1].legend()\n",
        "fig2.suptitle(\"Mean Staggered Magnetization and Specific Heat\\n{:}% of spins started negative\".format(int(p*100))); "
      ]
    },
    {
      "cell_type": "code",
      "execution_count": null,
      "metadata": {},
      "outputs": [],
      "source": [
        "np.savetxt(r\"C:\\Users\\jains\\Desktop\\nio200_new.txt\", np.column_stack([s_means, s_stds, E_means, E_stds]))"
      ]
    },
    {
      "cell_type": "markdown",
      "metadata": {
        "id": "1dMcU7ajAfGH"
      },
      "source": [
        "<hr/>"
      ]
    }
  ],
  "metadata": {
    "colab": {
      "provenance": []
    },
    "kernelspec": {
      "display_name": "Python 3",
      "language": "python",
      "name": "python3"
    },
    "language_info": {
      "codemirror_mode": {
        "name": "ipython",
        "version": 3
      },
      "file_extension": ".py",
      "mimetype": "text/x-python",
      "name": "python",
      "nbconvert_exporter": "python",
      "pygments_lexer": "ipython3",
      "version": "3.9.0"
    },
    "orig_nbformat": 4,
    "vscode": {
      "interpreter": {
        "hash": "2ee2b772fef0fe1eefbdaf37a57199941928ae7c08f8fecd323a0ad3278b68fb"
      }
    }
  },
  "nbformat": 4,
  "nbformat_minor": 0
}
