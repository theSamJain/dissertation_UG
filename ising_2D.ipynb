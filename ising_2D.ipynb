{
 "cells": [
  {
   "cell_type": "code",
   "execution_count": null,
   "metadata": {},
   "outputs": [],
   "source": [
    "# libraries\n",
    "import numpy as np\n",
    "%matplotlib widget\n",
    "import matplotlib.pyplot as plt\n",
    "from scipy.ndimage import convolve, generate_binary_structure\n",
    "from numba import njit"
   ]
  },
  {
   "cell_type": "code",
   "execution_count": null,
   "metadata": {},
   "outputs": [],
   "source": [
    "def Lat_Energy(lattice):\n",
    "    kernal = generate_binary_structure(2, 1) \n",
    "    kernal[1][1] = False\n",
    "    arr = -lattice*convolve(lattice, kernal, mode = 'wrap', cval = 0)\n",
    "    '''use mode = 'wrap' if considering infinite/periodic lattice'''\n",
    "    return np.sum(arr)/2"
   ]
  },
  {
   "cell_type": "code",
   "execution_count": null,
   "metadata": {},
   "outputs": [],
   "source": [
    "@njit(nopython = True, nogil = True)\n",
    "def metropolis(lat_config, n_times, BJ, lattice_energy, N):\n",
    "    spin_arr = lat_config.copy()\n",
    "    net_spins = np.zeros(n_times-1)\n",
    "    net_lattice_energy = np.zeros(n_times-1)\n",
    "\n",
    "    for t in range(0, n_times-1):\n",
    "\n",
    "        '''pick random point on array and flip spin'''\n",
    "        x, y = np.random.randint(low = 0, high = N, size = 2)\n",
    "\n",
    "        spin_i = spin_arr[x, y]     # initial spin\n",
    "        spin_f = spin_i*(-1)        # flipping initial spin\n",
    "        \n",
    "        '''compute change in lattice_energy'''\n",
    "        E_i = 0\n",
    "        E_f = 0\n",
    "\n",
    "        '''Conditions are such to accomodate boundary spins'''\n",
    "        # Check if this can be sped up using convolution\n",
    "        if x > 0:\n",
    "            E_i += -spin_i*spin_arr[x-1, y]\n",
    "            E_f += -spin_f*spin_arr[x-1, y]\n",
    "        if x < N-1:\n",
    "            E_i += -spin_i*spin_arr[x+1, y]\n",
    "            E_f += -spin_f*spin_arr[x+1, y]\n",
    "        if y > 0:\n",
    "            E_i += -spin_i*spin_arr[x, y-1]\n",
    "            E_f += -spin_f*spin_arr[x, y-1]\n",
    "        if y < N-1:\n",
    "            E_i += -spin_i*spin_arr[x, y+1]\n",
    "            E_f += -spin_f*spin_arr[x, y+1]\n",
    "\n",
    "        dE = E_f - E_i\n",
    "        '''transitioninig to new state with giving probability'''\n",
    "        if ((dE > 0) and (np.random.random() < np.exp(-BJ*dE))):\n",
    "            spin_arr[x, y] = spin_f\n",
    "            lattice_energy += dE\n",
    "        elif dE <= 0:\n",
    "            spin_arr[x, y] = spin_f\n",
    "            lattice_energy += dE\n",
    "            \n",
    "        net_spins[t] = spin_arr.sum()\n",
    "        net_lattice_energy[t] = lattice_energy\n",
    "            \n",
    "    return net_spins, net_lattice_energy"
   ]
  },
  {
   "cell_type": "code",
   "execution_count": null,
   "metadata": {},
   "outputs": [],
   "source": [
    "def get_spin_energy(lattice, BJs, correct_n, N):\n",
    "    ms = np.zeros(len(BJs))         # array for means of spins\n",
    "    e_means = np.zeros(len(BJs))\n",
    "    e_stds = np.zeros(len(BJs))\n",
    "    for i, bj in enumerate(BJs):\n",
    "        spins, energies = metropolis(lattice, 10**6, bj, Lat_Energy(lattice), N)\n",
    "\n",
    "        # correct_n is the number of spins/particles (from the end of the array) that we'd like to consider to calc. the mean and std. It is like convergence\n",
    "        ms[i] = np.mean(spins[-correct_n:])/N**2 #.mean()/N**2\n",
    "        e_means[i] = np.mean(energies[-correct_n:])#.mean()\n",
    "        e_stds[i] = np.std(energies[-correct_n:])#.std()\n",
    "\n",
    "    return ms, e_means, e_stds"
   ]
  },
  {
   "cell_type": "code",
   "execution_count": null,
   "metadata": {},
   "outputs": [],
   "source": [
    "'''Lattice Information'''\n",
    "N = 50              # NxN lattice\n",
    "p = 0.75            # Prob of -1 spins\n",
    "BJ = 0.75           # Energy of one alignment\n",
    "lattice = np.random.choice([-1, 1], size = (N, N), p = [p, 1-p])\n",
    "plt.figure(\"Lattice\")\n",
    "plt.imshow(lattice)"
   ]
  },
  {
   "cell_type": "code",
   "execution_count": null,
   "metadata": {},
   "outputs": [],
   "source": [
    "n_steps = 10**6     # Number of times to run metropolis: (randomly) flip spins\n",
    "energy_lattice = Lat_Energy(lattice)\n",
    "\n",
    "spin, enrgy = metropolis(lat_config = lattice, n_times = n_steps, BJ = BJ, lattice_energy = energy_lattice, N = N)"
   ]
  },
  {
   "cell_type": "code",
   "execution_count": null,
   "metadata": {},
   "outputs": [],
   "source": [
    "# print(Lat_Energy(lattice))"
   ]
  },
  {
   "cell_type": "markdown",
   "metadata": {},
   "source": [
    "print(lat_energy(lattice))"
   ]
  },
  {
   "cell_type": "code",
   "execution_count": null,
   "metadata": {},
   "outputs": [],
   "source": [
    "'''Plot of Spins and Energy for particular BJ'''\n",
    "fig, ax = plt.subplots(1, 2, figsize = (13.5, 5.5)); \n",
    "ax[0].plot(spin/N**2)\n",
    "ax[0].set_xlabel(\"n Steps\")\n",
    "ax[0].set_ylabel(\"Average Spin $\\\\bar{m}$\")\n",
    "ax[0].grid(True)\n",
    "ax[1].plot(enrgy)\n",
    "ax[1].set_xlabel(\"n Steps\")\n",
    "ax[1].set_ylabel(\"Energy $E/J$\")\n",
    "ax[1].grid(True)\n",
    "fig.suptitle(\"Average Spin and Energy for $\\\\beta J = $ {:}\".format(BJ), size = 12); "
   ]
  },
  {
   "attachments": {},
   "cell_type": "markdown",
   "metadata": {},
   "source": [
    "<hr/>"
   ]
  },
  {
   "cell_type": "code",
   "execution_count": null,
   "metadata": {},
   "outputs": [],
   "source": [
    "# BJs = np.arange(0.1, 20, 0.05)\n",
    "# s_means, E_means, E_stds = get_spin_energy(lattice, BJs, 10**5, N)"
   ]
  },
  {
   "cell_type": "markdown",
   "metadata": {},
   "source": []
  },
  {
   "cell_type": "code",
   "execution_count": null,
   "metadata": {},
   "outputs": [],
   "source": [
    "# np.savetxt(r'14032032.txt', X = np.column_stack((s_means, E_means, E_stds)))"
   ]
  },
  {
   "cell_type": "code",
   "execution_count": null,
   "metadata": {},
   "outputs": [],
   "source": [
    "# '''Plot of Magnetization and Cv vs 1/BJ'''\n",
    "# fig2, ax2 = plt.subplots(1, 2, figsize = (13.5, 5.5)); \n",
    "# # ms_max_ind = np.argmax(s_means)\n",
    "# ax2[0].plot(1/BJs, s_means, ls = '--', marker = \".\")\n",
    "# # ax2[0].axvline(1/BJs[ms_max_ind], color = \"black\", label = \"1/BJ = {:.5}\".format(1/BJs[ms_max_ind]))\n",
    "# ax2[0].set_xlabel(\"$1/\\\\beta J$\")\n",
    "# ax2[0].set_ylabel(\"$\\\\bar{m}$\")\n",
    "# ax2[0].grid()\n",
    "# # ax2[0].legend()\n",
    "\n",
    "# cv_max_ind = np.argmax(E_stds*BJs)\n",
    "# ax2[1].plot(1/BJs, E_stds*BJs, ls = \"-.\", marker = \"o\")\n",
    "# ax2[1].axvline(1/BJs[cv_max_ind], color = \"black\", label = \"1/BJ = {:.5}\".format(1/BJs[cv_max_ind]))\n",
    "# ax2[1].set_xlabel(\"$1/\\\\beta J$\")\n",
    "# ax2[1].set_ylabel(\"$C_V / k^2$\")\n",
    "# ax2[1].grid()\n",
    "# ax2[1].legend()\n",
    "# fig2.suptitle(\"Mean Magnetization and Specific Heat\\n{:}% of spins started negative\".format(int(p*100))); "
   ]
  },
  {
   "cell_type": "code",
   "execution_count": null,
   "metadata": {},
   "outputs": [],
   "source": [
    "# BJc = np.arange(0.4, 0.62, 0.002)\n",
    "# s_means_crit, E_means_crit, E_stds_crit = get_spin_energy(lattice, BJc, 10**5, N)"
   ]
  },
  {
   "cell_type": "code",
   "execution_count": null,
   "metadata": {},
   "outputs": [],
   "source": [
    "# '''Near Critical Point'''\n",
    "# fig3, ax3 = plt.subplots(1, 2, figsize = (13.5, 5.5)); \n",
    "# ax3[0].plot(1/BJc, s_means_crit, ls = '--', marker = \".\")\n",
    "# ax3[0].set_xlabel(\"$1/\\\\beta J$\")\n",
    "# ax3[0].set_ylabel(\"$\\\\bar{m}$\")\n",
    "# ax3[0].grid()\n",
    "\n",
    "# cv_max_ind = np.argmax(E_stds_crit*BJc)\n",
    "# ax3[1].plot(1/BJc, E_stds_crit*BJc, ls = \"-.\", marker = \"o\")\n",
    "# ax3[1].axvline(1/BJc[cv_max_ind], color = \"black\", label = \"1/BJ = {:.5}\".format(1/BJc[cv_max_ind]))\n",
    "# ax3[1].set_xlabel(\"$1/\\\\beta J$\")\n",
    "# ax3[1].set_ylabel(\"$C_V / k^2$\")\n",
    "# ax3[1].grid()\n",
    "# ax3[1].legend()\n",
    "# fig3.suptitle(\"Near Critical Point\"); "
   ]
  },
  {
   "attachments": {},
   "cell_type": "markdown",
   "metadata": {},
   "source": [
    "<hr/>"
   ]
  },
  {
   "cell_type": "code",
   "execution_count": null,
   "metadata": {},
   "outputs": [],
   "source": [
    "# '''Comparing Positive and Negative Lattices'''\n",
    "# lattice_n = np.random.choice([-1, 1], size = (N, N), p = [p, 1-p])\n",
    "# lattice_p = np.random.choice([-1, 1], size = (N, N), p = [1-p, p])\n",
    "# ms_n, E_means_n, E_stds_n = get_spin_energy(lattice_n, BJs, 10**5, N)\n",
    "# ms_p, E_means_p, E_stds_p = get_spin_energy(lattice_p, BJs, 10**5, N)"
   ]
  },
  {
   "cell_type": "code",
   "execution_count": null,
   "metadata": {},
   "outputs": [],
   "source": [
    "# fig3, ax3 = plt.subplots(1, 2, figsize = (13.5, 5.5)); \n",
    "\n",
    "# ax3[0].plot(1/BJs, ms_n, \"o--\", label = \"{:}% of spins started negative\".format(int(p*100)))\n",
    "# ax3[0].plot(1/BJs, ms_p, \"o--\", label = \"{:}% of spins started positive\".format(int(p*100)))\n",
    "# ax3[0].set_xlabel(\"$1/\\\\beta J$\")\n",
    "# ax3[0].set_ylabel(\"$\\\\bar{m}$\")\n",
    "# ax3[0].grid()\n",
    "# ax3[0].legend()\n",
    "\n",
    "# ax3[1].plot(1/BJs, E_stds_n*BJs, label = \"{:}% of spins started negative\".format(int(p*100)))\n",
    "# ax3[1].plot(1/BJs, E_stds_p*BJs, label = \"{:}% of spins started positive\".format(int(p*100)))\n",
    "# ax3[1].set_xlabel(\"$1/\\\\beta J$\")\n",
    "# ax3[1].set_ylabel(\"$C_V / k^2$\")\n",
    "# ax3[1].grid()\n",
    "# ax3[1].legend()"
   ]
  }
 ],
 "metadata": {
  "kernelspec": {
   "display_name": "Python 3",
   "language": "python",
   "name": "python3"
  },
  "language_info": {
   "codemirror_mode": {
    "name": "ipython",
    "version": 3
   },
   "file_extension": ".py",
   "mimetype": "text/x-python",
   "name": "python",
   "nbconvert_exporter": "python",
   "pygments_lexer": "ipython3",
   "version": "3.9.0"
  },
  "orig_nbformat": 4,
  "vscode": {
   "interpreter": {
    "hash": "2ee2b772fef0fe1eefbdaf37a57199941928ae7c08f8fecd323a0ad3278b68fb"
   }
  }
 },
 "nbformat": 4,
 "nbformat_minor": 2
}
